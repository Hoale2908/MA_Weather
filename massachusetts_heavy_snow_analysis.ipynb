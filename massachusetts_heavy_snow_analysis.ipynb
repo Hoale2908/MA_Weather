{
 "cells": [
  {
   "cell_type": "code",
   "execution_count": 1,
   "metadata": {},
   "outputs": [
    {
     "data": {
      "text/html": [
       "<div>\n",
       "<style scoped>\n",
       "    .dataframe tbody tr th:only-of-type {\n",
       "        vertical-align: middle;\n",
       "    }\n",
       "\n",
       "    .dataframe tbody tr th {\n",
       "        vertical-align: top;\n",
       "    }\n",
       "\n",
       "    .dataframe thead th {\n",
       "        text-align: right;\n",
       "    }\n",
       "</style>\n",
       "<table border=\"1\" class=\"dataframe\">\n",
       "  <thead>\n",
       "    <tr style=\"text-align: right;\">\n",
       "      <th></th>\n",
       "      <th>EVENT_ID</th>\n",
       "      <th>CZ_NAME_STR</th>\n",
       "      <th>BEGIN_LOCATION</th>\n",
       "      <th>BEGIN_DATE</th>\n",
       "      <th>BEGIN_TIME</th>\n",
       "      <th>EVENT_TYPE</th>\n",
       "      <th>MAGNITUDE</th>\n",
       "      <th>TOR_F_SCALE</th>\n",
       "      <th>DEATHS_DIRECT</th>\n",
       "      <th>INJURIES_DIRECT</th>\n",
       "      <th>...</th>\n",
       "      <th>END_LOCATION</th>\n",
       "      <th>END_DATE</th>\n",
       "      <th>END_TIME</th>\n",
       "      <th>BEGIN_LAT</th>\n",
       "      <th>BEGIN_LON</th>\n",
       "      <th>END_LAT</th>\n",
       "      <th>END_LON</th>\n",
       "      <th>EVENT_NARRATIVE</th>\n",
       "      <th>EPISODE_NARRATIVE</th>\n",
       "      <th>ABSOLUTE_ROWNUMBER</th>\n",
       "    </tr>\n",
       "  </thead>\n",
       "  <tbody>\n",
       "    <tr>\n",
       "      <th>0</th>\n",
       "      <td>1155403</td>\n",
       "      <td>NORTHERN BERKSHIRE (ZONE)</td>\n",
       "      <td></td>\n",
       "      <td>01/06/2024</td>\n",
       "      <td>1600</td>\n",
       "      <td>Heavy Snow</td>\n",
       "      <td></td>\n",
       "      <td></td>\n",
       "      <td>0</td>\n",
       "      <td>0</td>\n",
       "      <td>...</td>\n",
       "      <td></td>\n",
       "      <td>01/07/2024</td>\n",
       "      <td>1900</td>\n",
       "      <td></td>\n",
       "      <td></td>\n",
       "      <td></td>\n",
       "      <td></td>\n",
       "      <td>NaN</td>\n",
       "      <td>An area of low pressure slowly tracking up and...</td>\n",
       "      <td>1</td>\n",
       "    </tr>\n",
       "    <tr>\n",
       "      <th>1</th>\n",
       "      <td>1155404</td>\n",
       "      <td>SOUTHERN BERKSHIRE (ZONE)</td>\n",
       "      <td></td>\n",
       "      <td>01/06/2024</td>\n",
       "      <td>1600</td>\n",
       "      <td>Heavy Snow</td>\n",
       "      <td></td>\n",
       "      <td></td>\n",
       "      <td>0</td>\n",
       "      <td>0</td>\n",
       "      <td>...</td>\n",
       "      <td></td>\n",
       "      <td>01/07/2024</td>\n",
       "      <td>1900</td>\n",
       "      <td></td>\n",
       "      <td></td>\n",
       "      <td></td>\n",
       "      <td></td>\n",
       "      <td>NaN</td>\n",
       "      <td>An area of low pressure slowly tracking up and...</td>\n",
       "      <td>2</td>\n",
       "    </tr>\n",
       "    <tr>\n",
       "      <th>2</th>\n",
       "      <td>1147150</td>\n",
       "      <td>EASTERN FRANKLIN (ZONE)</td>\n",
       "      <td></td>\n",
       "      <td>01/06/2024</td>\n",
       "      <td>2300</td>\n",
       "      <td>Heavy Snow</td>\n",
       "      <td></td>\n",
       "      <td></td>\n",
       "      <td>0</td>\n",
       "      <td>0</td>\n",
       "      <td>...</td>\n",
       "      <td></td>\n",
       "      <td>01/07/2024</td>\n",
       "      <td>1700</td>\n",
       "      <td></td>\n",
       "      <td></td>\n",
       "      <td></td>\n",
       "      <td></td>\n",
       "      <td>Generally 8 to 15 inches of snow fell. Some hi...</td>\n",
       "      <td>A strong storm moved up the east coast passing...</td>\n",
       "      <td>3</td>\n",
       "    </tr>\n",
       "    <tr>\n",
       "      <th>3</th>\n",
       "      <td>1147157</td>\n",
       "      <td>EASTERN HAMPSHIRE (ZONE)</td>\n",
       "      <td></td>\n",
       "      <td>01/06/2024</td>\n",
       "      <td>2300</td>\n",
       "      <td>Heavy Snow</td>\n",
       "      <td></td>\n",
       "      <td></td>\n",
       "      <td>0</td>\n",
       "      <td>0</td>\n",
       "      <td>...</td>\n",
       "      <td></td>\n",
       "      <td>01/07/2024</td>\n",
       "      <td>1700</td>\n",
       "      <td></td>\n",
       "      <td></td>\n",
       "      <td></td>\n",
       "      <td></td>\n",
       "      <td>Generally 10 to 15 inches of snow fell. Some a...</td>\n",
       "      <td>A strong storm moved up the east coast passing...</td>\n",
       "      <td>4</td>\n",
       "    </tr>\n",
       "    <tr>\n",
       "      <th>4</th>\n",
       "      <td>1147149</td>\n",
       "      <td>WESTERN FRANKLIN (ZONE)</td>\n",
       "      <td></td>\n",
       "      <td>01/06/2024</td>\n",
       "      <td>2300</td>\n",
       "      <td>Heavy Snow</td>\n",
       "      <td></td>\n",
       "      <td></td>\n",
       "      <td>0</td>\n",
       "      <td>0</td>\n",
       "      <td>...</td>\n",
       "      <td></td>\n",
       "      <td>01/07/2024</td>\n",
       "      <td>1600</td>\n",
       "      <td></td>\n",
       "      <td></td>\n",
       "      <td></td>\n",
       "      <td></td>\n",
       "      <td>Generally 8 to 14 inches of snow fell. Some sn...</td>\n",
       "      <td>A strong storm moved up the east coast passing...</td>\n",
       "      <td>5</td>\n",
       "    </tr>\n",
       "  </tbody>\n",
       "</table>\n",
       "<p>5 rows × 39 columns</p>\n",
       "</div>"
      ],
      "text/plain": [
       "   EVENT_ID                CZ_NAME_STR BEGIN_LOCATION  BEGIN_DATE  BEGIN_TIME  \\\n",
       "0   1155403  NORTHERN BERKSHIRE (ZONE)                 01/06/2024        1600   \n",
       "1   1155404  SOUTHERN BERKSHIRE (ZONE)                 01/06/2024        1600   \n",
       "2   1147150    EASTERN FRANKLIN (ZONE)                 01/06/2024        2300   \n",
       "3   1147157   EASTERN HAMPSHIRE (ZONE)                 01/06/2024        2300   \n",
       "4   1147149    WESTERN FRANKLIN (ZONE)                 01/06/2024        2300   \n",
       "\n",
       "   EVENT_TYPE MAGNITUDE TOR_F_SCALE  DEATHS_DIRECT  INJURIES_DIRECT  ...  \\\n",
       "0  Heavy Snow                                    0                0  ...   \n",
       "1  Heavy Snow                                    0                0  ...   \n",
       "2  Heavy Snow                                    0                0  ...   \n",
       "3  Heavy Snow                                    0                0  ...   \n",
       "4  Heavy Snow                                    0                0  ...   \n",
       "\n",
       "   END_LOCATION    END_DATE END_TIME BEGIN_LAT BEGIN_LON  END_LAT END_LON  \\\n",
       "0                01/07/2024     1900                                        \n",
       "1                01/07/2024     1900                                        \n",
       "2                01/07/2024     1700                                        \n",
       "3                01/07/2024     1700                                        \n",
       "4                01/07/2024     1600                                        \n",
       "\n",
       "                                     EVENT_NARRATIVE  \\\n",
       "0                                                NaN   \n",
       "1                                                NaN   \n",
       "2  Generally 8 to 15 inches of snow fell. Some hi...   \n",
       "3  Generally 10 to 15 inches of snow fell. Some a...   \n",
       "4  Generally 8 to 14 inches of snow fell. Some sn...   \n",
       "\n",
       "                                   EPISODE_NARRATIVE  ABSOLUTE_ROWNUMBER  \n",
       "0  An area of low pressure slowly tracking up and...                   1  \n",
       "1  An area of low pressure slowly tracking up and...                   2  \n",
       "2  A strong storm moved up the east coast passing...                   3  \n",
       "3  A strong storm moved up the east coast passing...                   4  \n",
       "4  A strong storm moved up the east coast passing...                   5  \n",
       "\n",
       "[5 rows x 39 columns]"
      ]
     },
     "execution_count": 1,
     "metadata": {},
     "output_type": "execute_result"
    }
   ],
   "source": [
    "import pandas as pd\n",
    "from datetime import datetime\n",
    "import matplotlib.pyplot as plt\n",
    "import numpy as np\n",
    "import seaborn as sns\n",
    "import os\n",
    "folder = '/Users/hoale/Code/MA_Weather/'\n",
    "df = pd.DataFrame()\n",
    "\n",
    "for dirname, _, filenames in os.walk(folder):\n",
    "    for filename in filenames:\n",
    "        if filename.endswith('.csv'):\n",
    "            dfx = pd.read_csv(os.path.join(dirname, filename))\n",
    "            df = pd.concat([df, dfx], axis=0)\n",
    "df.head(5)"
   ]
  },
  {
   "cell_type": "code",
   "execution_count": 2,
   "metadata": {},
   "outputs": [
    {
     "name": "stdout",
     "output_type": "stream",
     "text": [
      "<class 'pandas.core.frame.DataFrame'>\n",
      "Index: 3503 entries, 0 to 366\n",
      "Data columns (total 39 columns):\n",
      " #   Column               Non-Null Count  Dtype \n",
      "---  ------               --------------  ----- \n",
      " 0   EVENT_ID             3503 non-null   int64 \n",
      " 1   CZ_NAME_STR          3503 non-null   object\n",
      " 2   BEGIN_LOCATION       3503 non-null   object\n",
      " 3   BEGIN_DATE           3503 non-null   object\n",
      " 4   BEGIN_TIME           3503 non-null   int64 \n",
      " 5   EVENT_TYPE           3503 non-null   object\n",
      " 6   MAGNITUDE            3503 non-null   object\n",
      " 7   TOR_F_SCALE          3503 non-null   object\n",
      " 8   DEATHS_DIRECT        3503 non-null   int64 \n",
      " 9   INJURIES_DIRECT      3503 non-null   int64 \n",
      " 10  DAMAGE_PROPERTY_NUM  3503 non-null   int64 \n",
      " 11  DAMAGE_CROPS_NUM     3503 non-null   int64 \n",
      " 12  STATE_ABBR           3503 non-null   object\n",
      " 13  CZ_TIMEZONE          3503 non-null   object\n",
      " 14  MAGNITUDE_TYPE       3503 non-null   object\n",
      " 15  EPISODE_ID           3503 non-null   int64 \n",
      " 16  CZ_TYPE              3503 non-null   object\n",
      " 17  CZ_FIPS              3503 non-null   int64 \n",
      " 18  WFO                  3503 non-null   object\n",
      " 19  INJURIES_INDIRECT    3503 non-null   int64 \n",
      " 20  DEATHS_INDIRECT      3503 non-null   int64 \n",
      " 21  SOURCE               3503 non-null   object\n",
      " 22  FLOOD_CAUSE          3503 non-null   object\n",
      " 23  TOR_LENGTH           3503 non-null   object\n",
      " 24  TOR_WIDTH            3503 non-null   object\n",
      " 25  BEGIN_RANGE          3503 non-null   object\n",
      " 26  BEGIN_AZIMUTH        3503 non-null   object\n",
      " 27  END_RANGE            3503 non-null   object\n",
      " 28  END_AZIMUTH          3503 non-null   object\n",
      " 29  END_LOCATION         3503 non-null   object\n",
      " 30  END_DATE             3503 non-null   object\n",
      " 31  END_TIME             3503 non-null   int64 \n",
      " 32  BEGIN_LAT            3503 non-null   object\n",
      " 33  BEGIN_LON            3503 non-null   object\n",
      " 34  END_LAT              3503 non-null   object\n",
      " 35  END_LON              3503 non-null   object\n",
      " 36  EVENT_NARRATIVE      3310 non-null   object\n",
      " 37  EPISODE_NARRATIVE    3503 non-null   object\n",
      " 38  ABSOLUTE_ROWNUMBER   3503 non-null   int64 \n",
      "dtypes: int64(12), object(27)\n",
      "memory usage: 1.1+ MB\n"
     ]
    }
   ],
   "source": [
    "df.info()"
   ]
  },
  {
   "cell_type": "code",
   "execution_count": 3,
   "metadata": {},
   "outputs": [],
   "source": [
    "df.to_csv('massachusetts_weather.csv', index=False)"
   ]
  },
  {
   "cell_type": "code",
   "execution_count": 3,
   "metadata": {},
   "outputs": [],
   "source": [
    "df.columns = df.columns.astype(str).str.strip().str.lower().str.replace(' ', '_').str.replace('(', '').str.replace(')', '')"
   ]
  },
  {
   "cell_type": "code",
   "execution_count": 4,
   "metadata": {},
   "outputs": [],
   "source": [
    "# Standardize the time columns\n",
    "df['begin_time'] = df['begin_time'].astype(str)\n",
    "df['end_time'] = df['end_time'].astype(str)\n",
    "df['begin_time'] = df['begin_time'].str.pad(width=4, side='left', fillchar='0')\n",
    "df['end_time'] = df['end_time'].str.pad(width=4, side='left', fillchar='0')\n",
    "\n",
    "# Change date and time format\n",
    "df['begin_date'] = pd.to_datetime(df['begin_date'])\n",
    "df['end_date'] = pd.to_datetime(df['end_date'])\n",
    "df['begin_time'] = pd.to_datetime(df['begin_time'], format='%H%M')\n",
    "df['end_time'] = pd.to_datetime(df['end_time'], format='%H%M')\n",
    "\n",
    "# Create new features\n",
    "df['month'] = df['begin_date'].dt.month\n",
    "df['year'] = df['begin_date'].dt.year\n",
    "df['day'] = df['begin_date'].dt.day\n",
    "df['begin'] = df['begin_date'] + pd.to_timedelta(df['begin_time'].dt.hour, unit='h') + pd.to_timedelta(df['begin_time'].dt.minute, unit='m')\n",
    "df['end'] = df['end_date'] + pd.to_timedelta(df['end_time'].dt.hour, unit='h') + pd.to_timedelta(df['end_time'].dt.minute, unit='m')\n",
    "df['duration'] = df['end'] - df['begin']\n",
    "df['type'] = np.where((df['episode_narrative'].str.contains('heavy snow', case=False, na=False)) | (df['event_type']=='Heavy Snow'), 'Heavy Snow', 'Other')"
   ]
  },
  {
   "cell_type": "code",
   "execution_count": 5,
   "metadata": {},
   "outputs": [],
   "source": [
    "# Grouping events\n",
    "wind_events = ['High Wind', 'Strong Wind']\n",
    "flood_events = ['Flood', 'Flash Flood', 'Coastal Flood', 'Heavy Rain', 'Tropical Storm', 'Debris Flow',]\n",
    "thunderstorm_events = ['Thunderstorm Wind', 'Tornado', 'Funnel Cloud', 'Lightning']\n",
    "cold_events = ['Frost/Freeze', 'Winter Weather', 'Winter Storm','Extreme Cold/Wind Chill','Cold/Wind Chill',]\n",
    "snow_events = ['Heavy Snow', 'Snow', 'Blizzard', 'Winter Storm', 'Hail', 'Ice Storm', 'Sleet']\n",
    "heat_events = ['Heat', 'Drought', 'Wildfire']\n",
    "event_dict = {'Wind': wind_events, \n",
    "              'Flood': flood_events, \n",
    "              'Thunderstorm': thunderstorm_events, \n",
    "              'Extreme Cold': cold_events, \n",
    "              'Snow': snow_events, \n",
    "              'Heat': heat_events}\n",
    "# Create a reverse dictionary to map event types to their groups\n",
    "reverse_event_dict = {event: group for group, events in event_dict.items() for event in events}\n",
    "\n",
    "# Map the event types to their groups\n",
    "df['event_group'] = df['event_type'].map(reverse_event_dict).fillna('Other')\n"
   ]
  },
  {
   "cell_type": "code",
   "execution_count": 6,
   "metadata": {},
   "outputs": [],
   "source": [
    "# Grouping location\n",
    "df['location'] = df['cz_name_str'].str.replace(' (ZONE)', '').replace(' CO.', '', regex=True).str.split(' ').str[-1].str.capitalize()\n",
    "df['location'] = df['location'].str.replace('Middlesexnty','Middlesex') # Fix typo"
   ]
  },
  {
   "cell_type": "code",
   "execution_count": 7,
   "metadata": {},
   "outputs": [],
   "source": [
    "# Grouping months to seasons\n",
    "seasons = {'Winter': [12, 1, 2], 'Spring': [3, 4, 5], 'Summer': [6, 7, 8], 'Fall': [9, 10, 11]}\n",
    "df['season'] = df['month'].apply(lambda x: next(season for season, months in seasons.items() if x in months))"
   ]
  },
  {
   "cell_type": "markdown",
   "metadata": {},
   "source": [
    "# Overall"
   ]
  },
  {
   "cell_type": "markdown",
   "metadata": {},
   "source": [
    "## Which events happened the most in MA?"
   ]
  },
  {
   "cell_type": "markdown",
   "metadata": {},
   "source": [
    "There are 6 main types of events being reported. Of which, thunderstorm was the most popular event."
   ]
  },
  {
   "cell_type": "code",
   "execution_count": 8,
   "metadata": {},
   "outputs": [],
   "source": [
    "# Set the order of the event types and theme\n",
    "sns.set_palette('bright')\n",
    "sns.set_theme(font_scale=1.2, style='dark',)\n",
    "order = ['Thunderstorm', 'Wind', 'Flood', 'Extreme Cold', 'Snow', 'Heat']"
   ]
  },
  {
   "cell_type": "code",
   "execution_count": null,
   "metadata": {},
   "outputs": [],
   "source": [
    "plt.figure(figsize=(6, 3))\n",
    "sns.barplot(y=df['event_group'].value_counts().index, x=df['event_group'].value_counts().values, hue=df['event_group'].value_counts().index, dodge=False, hue_order=order)\n",
    "plt.ylabel('')\n",
    "plt.xlabel('Count', fontsize=12)\n",
    "plt.yticks(fontsize=12)\n",
    "plt.xticks(fontsize=12)\n",
    "plt.title('All-Time Ranking by Events', pad=20, fontdict={'fontsize': 15, 'fontweight': 'bold'})\n",
    "plt.show()"
   ]
  },
  {
   "cell_type": "markdown",
   "metadata": {},
   "source": [
    "## What are the trends of events?"
   ]
  },
  {
   "cell_type": "markdown",
   "metadata": {},
   "source": [
    "Total number of events decreased by about 50%, mostly with wind-related events. It could be that it is less windy, or that we no longer report as much wind events as before.\n",
    "(2024 data is not up to date, i.e. lacking data after August 31st) \n",
    "\n",
    "There was a lot more floods in 2023 compared to prior years. However, the amount of floods decreased in 2024."
   ]
  },
  {
   "cell_type": "code",
   "execution_count": null,
   "metadata": {},
   "outputs": [],
   "source": [
    "sns.displot(x=df['year'], discrete=True, shrink=.5, hue=df['event_group'], multiple='stack', legend=False, hue_order=order)\n",
    "plt.ylabel('Count', fontsize=12)\n",
    "plt.xlabel('')\n",
    "plt.yticks(fontsize=10)\n",
    "plt.xticks(fontsize=10)\n",
    "plt.legend(title='Type', loc='upper right', fontsize=9, title_fontsize=9, facecolor='lightgrey', \n",
    "           labels=['Heat', 'Snow', 'Extreme Cold', 'Flood', 'Wind', 'Thunderstorm'])\n",
    "plt.title('Events Over Time', pad=20, fontdict={'fontsize': 15, 'fontweight': 'bold'})\n",
    "plt.show()\n"
   ]
  },
  {
   "cell_type": "markdown",
   "metadata": {},
   "source": [
    "## Which areas had the most events?"
   ]
  },
  {
   "cell_type": "markdown",
   "metadata": {},
   "source": [
    "Worcester, Berkshire and Middlesex stood out with the most events. Espcially, it looked really \"extreme\" in Berkshire where there were both heat and extreme cold conditions, not to mention floods and snows. "
   ]
  },
  {
   "cell_type": "code",
   "execution_count": null,
   "metadata": {},
   "outputs": [],
   "source": [
    "df.groupby('location')['event_group'].value_counts(normalize=False).unstack().plot(kind='bar', stacked=True, figsize=(10, 6),)\n",
    "plt.legend(loc='center left', bbox_to_anchor=(1, 0.5), title='Event Type', fontsize=10, title_fontsize=10, facecolor='lightgrey')\n",
    "plt.xlabel('')\n",
    "plt.xticks(fontsize=12, rotation=45, ha='right')\n",
    "plt.title('Events by Location', pad=20, fontdict={'fontsize': 15, 'fontweight': 'bold'})\n",
    "plt.show()"
   ]
  },
  {
   "cell_type": "markdown",
   "metadata": {},
   "source": [
    "---"
   ]
  },
  {
   "cell_type": "markdown",
   "metadata": {},
   "source": [
    "# Snow Events"
   ]
  },
  {
   "cell_type": "markdown",
   "metadata": {},
   "source": [
    "## Which areas have the most snow events?"
   ]
  },
  {
   "cell_type": "markdown",
   "metadata": {},
   "source": [
    "Snow was everywhere, every season! Be prepared to have winter storms, including blizzards and ice storms, or at least heavey snow no matter where you live in this state.\n",
    "\n",
    "Nantucket seemed like the place to live for those who don't love snow. Although there were hails in the summer, no other snow events happened during the year. It's not surprising as this is the smallest county with only one city."
   ]
  },
  {
   "cell_type": "code",
   "execution_count": null,
   "metadata": {},
   "outputs": [],
   "source": [
    "snowdf = df[df['event_group']=='Snow']\n",
    "plt.figure(figsize=(8, 6))\n",
    "sns.scatterplot(y=snowdf['location'], x=snowdf['event_type'], hue=snowdf['season'], legend='brief', )\n",
    "plt.xlabel('')\n",
    "plt.ylabel('')\n",
    "plt.title('Snow Events by Location and Season', pad=20, fontdict={'fontsize': 15, 'fontweight': 'bold'})\n",
    "plt.show()"
   ]
  },
  {
   "cell_type": "markdown",
   "metadata": {},
   "source": [
    "## How long do heavy snow events last?"
   ]
  },
  {
   "cell_type": "markdown",
   "metadata": {},
   "source": [
    "The duration of heavy snow events varied from a few hours to almost 2 days. The average duration increased slightly from 2020 to 2023, each year by about 2 hours. This trend likely will continue in 2024."
   ]
  },
  {
   "cell_type": "code",
   "execution_count": null,
   "metadata": {},
   "outputs": [],
   "source": [
    "fig, axs = plt.subplots(2, 1, figsize=(6, 6), )\n",
    "sns.boxplot(x=snowdf['year'], y=snowdf['duration'].dt.total_seconds()/3600, width=0.3, linewidth=1.5,  \n",
    "            meanline=False, showmeans=True, meanprops={'marker': 'o', 'markersize': 5, 'markerfacecolor': 'orange', 'markeredgecolor': 'orange'}, ax=axs[0])\n",
    "sns.lineplot(x=snowdf['year'], y=snowdf['duration'].dt.total_seconds()/3600, estimator='mean', errorbar=None, marker='o', ax=axs[1], color='orange',)\n",
    "\n",
    "axs[0].set_ylabel('Hours', fontsize=12)\n",
    "axs[0].set_xlabel('')\n",
    "\n",
    "axs[1].set_ylim(0, 45)\n",
    "axs[1].set_ylabel('Hours', fontsize=12)\n",
    "axs[1].set_xlabel('')\n",
    "\n",
    "fig.suptitle('Duration of Heavy Snow Over Time', fontsize=15, fontweight='bold', y=1)\n",
    "plt.tight_layout()\n",
    "plt.show()"
   ]
  },
  {
   "cell_type": "markdown",
   "metadata": {},
   "source": [
    "## When does heavy snow usually start?"
   ]
  },
  {
   "cell_type": "markdown",
   "metadata": {},
   "source": [
    "Yes, in the winter, most often in January. Sometimes we saw heavy snow in the spring as well, and once in 2020 we saw a heavy snow in October."
   ]
  },
  {
   "cell_type": "code",
   "execution_count": null,
   "metadata": {},
   "outputs": [],
   "source": [
    "hs = df[df['type']=='Heavy Snow']\n",
    "sns.displot(x=hs['month'], discrete=True, legend=True, hue=hs['season'], shrink=.5, palette='bright',)\n",
    "plt.xticks(np.arange(1, 13), ['Jan', 'Feb', 'Mar', 'Apr', 'May', 'Jun', 'Jul', 'Aug', 'Sep', 'Oct', 'Nov', 'Dec'], fontsize=9)\n",
    "plt.xlabel('Month', fontsize=12)\n",
    "plt.xlim(0.5, 12.5)\n",
    "plt.title('Heavy Snow Events by Month and Season', fontdict={'size': 15, 'weight': 'bold'},)\n",
    "plt.show()"
   ]
  },
  {
   "cell_type": "code",
   "execution_count": null,
   "metadata": {},
   "outputs": [],
   "source": [
    "hs = df[df['type']=='Heavy Snow']\n",
    "sns.displot(x=hs['month'], discrete=True, legend=True, hue=hs['season'], shrink=.5, palette='bright', multiple='stack', col=hs['year'], col_wrap=6, height=4, aspect=1)\n",
    "plt.xticks(np.arange(1, 13), fontsize=9)\n",
    "plt.xlim(0.5, 12.5)\n",
    "plt.suptitle('Heavy Snow Events Over Time', fontdict={'size': 20, 'weight': 'bold'}, y=1.05)\n",
    "plt.show()"
   ]
  },
  {
   "cell_type": "markdown",
   "metadata": {},
   "source": [
    "---\n"
   ]
  }
 ],
 "metadata": {
  "kernelspec": {
   "display_name": "py312",
   "language": "python",
   "name": "python3"
  },
  "language_info": {
   "codemirror_mode": {
    "name": "ipython",
    "version": 3
   },
   "file_extension": ".py",
   "mimetype": "text/x-python",
   "name": "python",
   "nbconvert_exporter": "python",
   "pygments_lexer": "ipython3",
   "version": "3.12.4"
  }
 },
 "nbformat": 4,
 "nbformat_minor": 2
}
